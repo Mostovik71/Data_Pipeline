{
 "cells": [
  {
   "cell_type": "code",
   "execution_count": 1,
   "metadata": {},
   "outputs": [
    {
     "name": "stderr",
     "output_type": "stream",
     "text": [
      "C:\\Users\\mosto\\AppData\\Local\\Temp\\ipykernel_12232\\1313306781.py:1: DeprecationWarning: \n",
      "Pyarrow will become a required dependency of pandas in the next major release of pandas (pandas 3.0),\n",
      "(to allow more performant data types, such as the Arrow string type, and better interoperability with other libraries)\n",
      "but was not found to be installed on your system.\n",
      "If this would cause problems for you,\n",
      "please provide us feedback at https://github.com/pandas-dev/pandas/issues/54466\n",
      "        \n",
      "  import pandas as pd\n"
     ]
    }
   ],
   "source": [
    "import pandas as pd\n",
    "pd.set_option('display.max_columns', 100)"
   ]
  },
  {
   "cell_type": "code",
   "execution_count": 8,
   "metadata": {},
   "outputs": [],
   "source": [
    "xlsx = pd.ExcelFile('data/db_parimate.xlsx')\n",
    "users = pd.read_excel(xlsx, 'parimate_users')\n",
    "reports = pd.read_excel(xlsx, 'parimate_reports')\n",
    "chats = pd.read_excel(xlsx, 'parimate_chats')\n",
    "notifications = pd.read_excel(xlsx, 'parimate_notifications')"
   ]
  },
  {
   "cell_type": "code",
   "execution_count": 15,
   "metadata": {},
   "outputs": [],
   "source": [
    "personal_data = users[['user_id', 'name', 'age', 'sex', 'username', 'date_registration']] # Таблица с ПД\n",
    "habit_data = users[['user_id', 'habit_category', 'habit_choice', 'habit_frequency', \n",
    "                    'habit_report', 'habit_mate_sex', 'habit_notification_day', 'habit_notification_time', \n",
    "                    'habit_week']] # Таблица с информацией о привычках\n",
    "pari_data = users[['user_id', 'pari_mate_id', 'pari_chat_link', 'pari_reports', \n",
    "                    'time_find_start', 'time_pari_start', 'time_pari_end']] # Таблица с информацией о созданных чатах"
   ]
  },
  {
   "cell_type": "code",
   "execution_count": 2,
   "metadata": {},
   "outputs": [],
   "source": [
    "personal_data = pd.read_csv('pers_data.csv')\n",
    "habit_data = pd.read_csv('habit_data.csv')"
   ]
  },
  {
   "cell_type": "code",
   "execution_count": 12,
   "metadata": {},
   "outputs": [],
   "source": [
    "personal_data.date_registration = personal_data.date_registration.map(lambda x: x[:10], na_action='ignore')"
   ]
  },
  {
   "cell_type": "code",
   "execution_count": 19,
   "metadata": {},
   "outputs": [
    {
     "name": "stderr",
     "output_type": "stream",
     "text": [
      "C:\\Users\\mosto\\AppData\\Local\\Temp\\ipykernel_12232\\1830258642.py:1: FutureWarning: Setting an item of incompatible dtype is deprecated and will raise an error in a future version of pandas. Value 'ND' has dtype incompatible with float64, please explicitly cast to a compatible dtype first.\n",
      "  habit_data.fillna('ND', inplace=True)\n"
     ]
    }
   ],
   "source": [
    "habit_data.fillna('ND', inplace=True)\n",
    "personal_data.fillna('ND', inplace=True)"
   ]
  },
  {
   "cell_type": "code",
   "execution_count": 23,
   "metadata": {},
   "outputs": [],
   "source": [
    "personal_data.to_csv('pers_data_upd.csv', index=False)\n",
    "habit_data.to_csv('habit_data_upd.csv', index=False)"
   ]
  },
  {
   "cell_type": "code",
   "execution_count": null,
   "metadata": {},
   "outputs": [],
   "source": []
  }
 ],
 "metadata": {
  "kernelspec": {
   "display_name": "de_pipeline",
   "language": "python",
   "name": "python3"
  },
  "language_info": {
   "codemirror_mode": {
    "name": "ipython",
    "version": 3
   },
   "file_extension": ".py",
   "mimetype": "text/x-python",
   "name": "python",
   "nbconvert_exporter": "python",
   "pygments_lexer": "ipython3",
   "version": "3.10.11"
  }
 },
 "nbformat": 4,
 "nbformat_minor": 2
}
